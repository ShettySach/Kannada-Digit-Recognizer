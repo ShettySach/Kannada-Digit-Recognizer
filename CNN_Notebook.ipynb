{
 "cells": [
  {
   "cell_type": "code",
   "execution_count": 1,
   "id": "02e9e8e4",
   "metadata": {},
   "outputs": [],
   "source": [
    "import pandas as pd\n",
    "import numpy as  np\n",
    "import matplotlib.pyplot as plt\n",
    "import seaborn as sns"
   ]
  },
  {
   "cell_type": "code",
   "execution_count": 2,
   "id": "d6e302ae",
   "metadata": {},
   "outputs": [],
   "source": [
    "from sklearn.model_selection import train_test_split\n",
    "from sklearn.metrics import confusion_matrix"
   ]
  },
  {
   "cell_type": "code",
   "execution_count": 3,
   "id": "29da7c2e",
   "metadata": {},
   "outputs": [],
   "source": [
    "from keras.utils.np_utils import to_categorical\n",
    "from keras.preprocessing.image import ImageDataGenerator\n",
    "from keras.models import Sequential\n",
    "from keras.layers import Dense,Conv2D,Flatten,MaxPool2D,Dropout,BatchNormalization\n",
    "from keras.optimizers import RMSprop,Adam\n",
    "from keras.callbacks import ReduceLROnPlateau"
   ]
  },
  {
   "cell_type": "code",
   "execution_count": 4,
   "id": "e735d797",
   "metadata": {},
   "outputs": [],
   "source": [
    "train=pd.read_csv('DATA/train.csv')\n",
    "test=pd.read_csv('DATA/test.csv')"
   ]
  },
  {
   "cell_type": "code",
   "execution_count": 5,
   "id": "553ae54f",
   "metadata": {},
   "outputs": [],
   "source": [
    "test=test.drop('id',axis=1)\n",
    "y=train.label.value_counts()"
   ]
  },
  {
   "cell_type": "code",
   "execution_count": 6,
   "id": "f5391697",
   "metadata": {},
   "outputs": [],
   "source": [
    "X_train=train.drop('label',axis=1)\n",
    "Y_train=train.label"
   ]
  },
  {
   "cell_type": "code",
   "execution_count": 7,
   "id": "0907a2a5",
   "metadata": {},
   "outputs": [],
   "source": [
    "X_train=X_train/255\n",
    "test=test/255 #Scaling to [0,1]"
   ]
  },
  {
   "cell_type": "code",
   "execution_count": 8,
   "id": "5c7b052c",
   "metadata": {},
   "outputs": [
    {
     "name": "stdout",
     "output_type": "stream",
     "text": [
      "The shape of train set now is (60000, 28, 28, 1)\n",
      "The shape of test set now is (5000, 28, 28, 1)\n"
     ]
    }
   ],
   "source": [
    "X_train=X_train.values.reshape(-1,28,28,1)\n",
    "test=test.values.reshape(-1,28,28,1)\n",
    "\n",
    "print('The shape of train set now is',X_train.shape)\n",
    "print('The shape of test set now is',test.shape) #Reshaping to 28 x 28"
   ]
  },
  {
   "cell_type": "code",
   "execution_count": 9,
   "id": "5ee1475b",
   "metadata": {},
   "outputs": [],
   "source": [
    "Y_train=to_categorical(Y_train) #Encoding"
   ]
  },
  {
   "cell_type": "code",
   "execution_count": 10,
   "id": "211c3c06",
   "metadata": {},
   "outputs": [],
   "source": [
    "X_train,X_test,y_train,y_test=train_test_split(X_train,Y_train,random_state=42,test_size=0.15)"
   ]
  },
  {
   "cell_type": "code",
   "execution_count": 11,
   "id": "8163d199",
   "metadata": {},
   "outputs": [
    {
     "data": {
      "text/plain": [
       "<matplotlib.image.AxesImage at 0x1fca9014fd0>"
      ]
     },
     "execution_count": 11,
     "metadata": {},
     "output_type": "execute_result"
    },
    {
     "data": {
      "image/png": "[encoded data removed]",
      "text/plain": [
       "<Figure size 200x200 with 1 Axes>"
      ]
     },
     "metadata": {},
     "output_type": "display_data"
    }
   ],
   "source": [
    "plt.figure(figsize=(2,2))\n",
    "plt.imshow(X_train[1100][:,:,0], cmap = 'Greys_r')"
   ]
  },
  {
   "cell_type": "code",
   "execution_count": 12,
   "id": "7552c1e1",
   "metadata": {},
   "outputs": [],
   "source": [
    "#Applying transformations and adding data\n",
    "\n",
    "datagen = ImageDataGenerator(\n",
    "        featurewise_center=False,  # set input mean to 0 over the dataset\n",
    "        samplewise_center=False,  # set each sample mean to 0\n",
    "        featurewise_std_normalization=False,  # divide inputs by std of the dataset\n",
    "        samplewise_std_normalization=False,  # divide each input by its std\n",
    "        zca_whitening=False,  # apply ZCA whitening\n",
    "        rotation_range=10,  # randomly rotate images in the range (degrees, 0 to 180)\n",
    "        zoom_range = 0.1, # Randomly zoom image \n",
    "        width_shift_range=0.1,  # randomly shift images horizontally (fraction of total width)\n",
    "        height_shift_range=0.1,  # randomly shift images vertically (fraction of total height)\n",
    "        horizontal_flip=False,  # randomly flip images\n",
    "        vertical_flip=False)  # randomly flip images\n",
    "\n",
    "datagen.fit(X_train)"
   ]
  },
  {
   "cell_type": "code",
   "execution_count": 13,
   "id": "3c923dcd",
   "metadata": {},
   "outputs": [],
   "source": [
    "#Padded convolution"
   ]
  },
  {
   "cell_type": "code",
   "execution_count": 14,
   "id": "ad9962d4",
   "metadata": {},
   "outputs": [],
   "source": [
    "model = Sequential()\n",
    "\n",
    "model.add(Conv2D(filters = 32, kernel_size = (5,5),padding = 'Same', \n",
    "                 activation ='relu', input_shape = (28,28,1)))\n",
    "model.add(Conv2D(filters = 32, kernel_size = (5,5),padding = 'Same', \n",
    "                 activation ='relu'))\n",
    "model.add(BatchNormalization(momentum=.15))\n",
    "model.add(MaxPool2D(pool_size=(2,2)))\n",
    "model.add(Dropout(0.25))\n",
    "\n",
    "model.add(Conv2D(filters = 64, kernel_size = (3,3),padding = 'Same', \n",
    "                 activation ='relu'))\n",
    "model.add(Conv2D(filters = 64, kernel_size = (3,3),padding = 'Same', \n",
    "                 activation ='relu'))\n",
    "model.add(BatchNormalization(momentum=0.15))\n",
    "model.add(MaxPool2D(pool_size=(2,2), strides=(2,2)))\n",
    "model.add(Dropout(0.25))\n",
    "\n",
    "model.add(Conv2D(filters = 32, kernel_size = (5,5),padding = 'Same', \n",
    "                 activation ='relu', input_shape = (28,28,1)))\n",
    "model.add(Conv2D(filters = 32, kernel_size = (5,5),padding = 'Same', \n",
    "                 activation ='relu'))\n",
    "model.add(BatchNormalization(momentum=.15))\n",
    "model.add(MaxPool2D(pool_size=(2,2)))\n",
    "model.add(Dropout(0.25))\n",
    "\n",
    "model.add(Flatten())\n",
    "model.add(Dense(256, activation = \"relu\"))\n",
    "model.add(Dropout(0.4))\n",
    "model.add(Dense(10, activation = \"softmax\"))"
   ]
  },
  {
   "cell_type": "code",
   "execution_count": 15,
   "id": "bd2e2f26",
   "metadata": {},
   "outputs": [
    {
     "name": "stdout",
     "output_type": "stream",
     "text": [
      "Model: \"sequential\"\n",
      "_________________________________________________________________\n",
      " Layer (type)                Output Shape              Param #   \n",
      "=================================================================\n",
      " conv2d (Conv2D)             (None, 28, 28, 32)        832       \n",
      "                                                                 \n",
      " conv2d_1 (Conv2D)           (None, 28, 28, 32)        25632     \n",
      "                                                                 \n",
      " batch_normalization (BatchN  (None, 28, 28, 32)       128       \n",
      " ormalization)                                                   \n",
      "                                                                 \n",
      " max_pooling2d (MaxPooling2D  (None, 14, 14, 32)       0         \n",
      " )                                                               \n",
      "                                                                 \n",
      " dropout (Dropout)           (None, 14, 14, 32)        0         \n",
      "                                                                 \n",
      " conv2d_2 (Conv2D)           (None, 14, 14, 64)        18496     \n",
      "                                                                 \n",
      " conv2d_3 (Conv2D)           (None, 14, 14, 64)        36928     \n",
      "                                                                 \n",
      " batch_normalization_1 (Batc  (None, 14, 14, 64)       256       \n",
      " hNormalization)                                                 \n",
      "                                                                 \n",
      " max_pooling2d_1 (MaxPooling  (None, 7, 7, 64)         0         \n",
      " 2D)                                                             \n",
      "                                                                 \n",
      " dropout_1 (Dropout)         (None, 7, 7, 64)          0         \n",
      "                                                                 \n",
      " conv2d_4 (Conv2D)           (None, 7, 7, 32)          51232     \n",
      "                                                                 \n",
      " conv2d_5 (Conv2D)           (None, 7, 7, 32)          25632     \n",
      "                                                                 \n",
      " batch_normalization_2 (Batc  (None, 7, 7, 32)         128       \n",
      " hNormalization)                                                 \n",
      "                                                                 \n",
      " max_pooling2d_2 (MaxPooling  (None, 3, 3, 32)         0         \n",
      " 2D)                                                             \n",
      "                                                                 \n",
      " dropout_2 (Dropout)         (None, 3, 3, 32)          0         \n",
      "                                                                 \n",
      " flatten (Flatten)           (None, 288)               0         \n",
      "                                                                 \n",
      " dense (Dense)               (None, 256)               73984     \n",
      "                                                                 \n",
      " dropout_3 (Dropout)         (None, 256)               0         \n",
      "                                                                 \n",
      " dense_1 (Dense)             (None, 10)                2570      \n",
      "                                                                 \n",
      "=================================================================\n",
      "Total params: 235,818\n",
      "Trainable params: 235,562\n",
      "Non-trainable params: 256\n",
      "_________________________________________________________________\n"
     ]
    }
   ],
   "source": [
    "model.summary()"
   ]
  },
  {
   "cell_type": "code",
   "execution_count": 16,
   "id": "8f8ebec1",
   "metadata": {},
   "outputs": [],
   "source": [
    "optimizer=Adam(learning_rate=0.001,beta_1=0.9,beta_2=0.999)"
   ]
  },
  {
   "cell_type": "code",
   "execution_count": 17,
   "id": "df33d981",
   "metadata": {},
   "outputs": [],
   "source": [
    "model.compile(optimizer=optimizer,loss=['categorical_crossentropy'],metrics=['accuracy'])"
   ]
  },
  {
   "cell_type": "code",
   "execution_count": 18,
   "id": "8e7ba617",
   "metadata": {},
   "outputs": [],
   "source": [
    "learning_rate_reduction = ReduceLROnPlateau(monitor='val_accuracy', \n",
    "                                            patience=3, \n",
    "                                            verbose=1, \n",
    "                                            factor=0.5, \n",
    "                                            min_lr=0.00001)"
   ]
  },
  {
   "cell_type": "code",
   "execution_count": 19,
   "id": "f2994765",
   "metadata": {},
   "outputs": [],
   "source": [
    "#Fitting\n",
    "\n",
    "epochs=30\n",
    "batch_size=64"
   ]
  },
  {
   "cell_type": "code",
   "execution_count": 20,
   "id": "5bb58e06",
   "metadata": {},
   "outputs": [
    {
     "name": "stdout",
     "output_type": "stream",
     "text": [
      "Epoch 1/30\n",
      "796/796 - 219s - loss: 0.2620 - accuracy: 0.9158 - val_loss: 0.0395 - val_accuracy: 0.9891 - lr: 0.0010 - 219s/epoch - 275ms/step\n",
      "Epoch 2/30\n",
      "796/796 - 255s - loss: 0.0669 - accuracy: 0.9797 - val_loss: 0.0271 - val_accuracy: 0.9927 - lr: 0.0010 - 255s/epoch - 320ms/step\n",
      "Epoch 3/30\n",
      "796/796 - 213s - loss: 0.0533 - accuracy: 0.9849 - val_loss: 0.0272 - val_accuracy: 0.9931 - lr: 0.0010 - 213s/epoch - 268ms/step\n",
      "Epoch 4/30\n",
      "796/796 - 190s - loss: 0.0446 - accuracy: 0.9865 - val_loss: 0.0253 - val_accuracy: 0.9921 - lr: 0.0010 - 190s/epoch - 239ms/step\n",
      "Epoch 5/30\n",
      "796/796 - 191s - loss: 0.0401 - accuracy: 0.9890 - val_loss: 0.0223 - val_accuracy: 0.9929 - lr: 0.0010 - 191s/epoch - 240ms/step\n",
      "Epoch 6/30\n",
      "796/796 - 195s - loss: 0.0389 - accuracy: 0.9887 - val_loss: 0.0245 - val_accuracy: 0.9938 - lr: 0.0010 - 195s/epoch - 245ms/step\n",
      "Epoch 7/30\n",
      "796/796 - 212s - loss: 0.0357 - accuracy: 0.9898 - val_loss: 0.0233 - val_accuracy: 0.9937 - lr: 0.0010 - 212s/epoch - 266ms/step\n",
      "Epoch 8/30\n",
      "796/796 - 195s - loss: 0.0323 - accuracy: 0.9907 - val_loss: 0.0246 - val_accuracy: 0.9946 - lr: 0.0010 - 195s/epoch - 245ms/step\n",
      "Epoch 9/30\n",
      "796/796 - 195s - loss: 0.0330 - accuracy: 0.9905 - val_loss: 0.0193 - val_accuracy: 0.9930 - lr: 0.0010 - 195s/epoch - 244ms/step\n",
      "Epoch 10/30\n",
      "796/796 - 195s - loss: 0.0278 - accuracy: 0.9920 - val_loss: 0.0155 - val_accuracy: 0.9956 - lr: 0.0010 - 195s/epoch - 245ms/step\n",
      "Epoch 11/30\n",
      "796/796 - 193s - loss: 0.0275 - accuracy: 0.9919 - val_loss: 0.0134 - val_accuracy: 0.9956 - lr: 0.0010 - 193s/epoch - 242ms/step\n",
      "Epoch 12/30\n",
      "796/796 - 188s - loss: 0.0261 - accuracy: 0.9928 - val_loss: 0.0156 - val_accuracy: 0.9962 - lr: 0.0010 - 188s/epoch - 236ms/step\n",
      "Epoch 13/30\n",
      "796/796 - 181s - loss: 0.0245 - accuracy: 0.9928 - val_loss: 0.0143 - val_accuracy: 0.9958 - lr: 0.0010 - 181s/epoch - 227ms/step\n",
      "Epoch 14/30\n",
      "796/796 - 186s - loss: 0.0238 - accuracy: 0.9932 - val_loss: 0.0144 - val_accuracy: 0.9966 - lr: 0.0010 - 186s/epoch - 234ms/step\n",
      "Epoch 15/30\n",
      "796/796 - 192s - loss: 0.0236 - accuracy: 0.9932 - val_loss: 0.0122 - val_accuracy: 0.9966 - lr: 0.0010 - 192s/epoch - 242ms/step\n",
      "Epoch 16/30\n",
      "796/796 - 268s - loss: 0.0224 - accuracy: 0.9936 - val_loss: 0.0141 - val_accuracy: 0.9960 - lr: 0.0010 - 268s/epoch - 336ms/step\n",
      "Epoch 17/30\n",
      "\n",
      "Epoch 17: ReduceLROnPlateau reducing learning rate to 0.0005000000237487257.\n",
      "796/796 - 190s - loss: 0.0216 - accuracy: 0.9938 - val_loss: 0.0142 - val_accuracy: 0.9957 - lr: 0.0010 - 190s/epoch - 239ms/step\n",
      "Epoch 18/30\n",
      "796/796 - 195s - loss: 0.0163 - accuracy: 0.9954 - val_loss: 0.0131 - val_accuracy: 0.9961 - lr: 5.0000e-04 - 195s/epoch - 245ms/step\n",
      "Epoch 19/30\n",
      "796/796 - 189s - loss: 0.0141 - accuracy: 0.9960 - val_loss: 0.0116 - val_accuracy: 0.9967 - lr: 5.0000e-04 - 189s/epoch - 237ms/step\n",
      "Epoch 20/30\n",
      "796/796 - 184s - loss: 0.0135 - accuracy: 0.9959 - val_loss: 0.0081 - val_accuracy: 0.9973 - lr: 5.0000e-04 - 184s/epoch - 231ms/step\n",
      "Epoch 21/30\n",
      "796/796 - 197s - loss: 0.0133 - accuracy: 0.9959 - val_loss: 0.0101 - val_accuracy: 0.9971 - lr: 5.0000e-04 - 197s/epoch - 247ms/step\n",
      "Epoch 22/30\n",
      "796/796 - 194s - loss: 0.0137 - accuracy: 0.9961 - val_loss: 0.0096 - val_accuracy: 0.9970 - lr: 5.0000e-04 - 194s/epoch - 244ms/step\n",
      "Epoch 23/30\n",
      "\n",
      "Epoch 23: ReduceLROnPlateau reducing learning rate to 0.0002500000118743628.\n",
      "796/796 - 195s - loss: 0.0111 - accuracy: 0.9964 - val_loss: 0.0112 - val_accuracy: 0.9967 - lr: 5.0000e-04 - 195s/epoch - 246ms/step\n",
      "Epoch 24/30\n",
      "796/796 - 194s - loss: 0.0098 - accuracy: 0.9968 - val_loss: 0.0102 - val_accuracy: 0.9971 - lr: 2.5000e-04 - 194s/epoch - 244ms/step\n",
      "Epoch 25/30\n",
      "796/796 - 201s - loss: 0.0092 - accuracy: 0.9972 - val_loss: 0.0092 - val_accuracy: 0.9972 - lr: 2.5000e-04 - 201s/epoch - 253ms/step\n",
      "Epoch 26/30\n",
      "\n",
      "Epoch 26: ReduceLROnPlateau reducing learning rate to 0.0001250000059371814.\n",
      "796/796 - 198s - loss: 0.0089 - accuracy: 0.9973 - val_loss: 0.0100 - val_accuracy: 0.9967 - lr: 2.5000e-04 - 198s/epoch - 248ms/step\n",
      "Epoch 27/30\n",
      "796/796 - 232s - loss: 0.0083 - accuracy: 0.9974 - val_loss: 0.0064 - val_accuracy: 0.9978 - lr: 1.2500e-04 - 232s/epoch - 291ms/step\n",
      "Epoch 28/30\n",
      "796/796 - 236s - loss: 0.0083 - accuracy: 0.9976 - val_loss: 0.0070 - val_accuracy: 0.9978 - lr: 1.2500e-04 - 236s/epoch - 297ms/step\n",
      "Epoch 29/30\n",
      "796/796 - 239s - loss: 0.0086 - accuracy: 0.9975 - val_loss: 0.0069 - val_accuracy: 0.9973 - lr: 1.2500e-04 - 239s/epoch - 300ms/step\n",
      "Epoch 30/30\n",
      "\n",
      "Epoch 30: ReduceLROnPlateau reducing learning rate to 6.25000029685907e-05.\n",
      "796/796 - 217s - loss: 0.0071 - accuracy: 0.9976 - val_loss: 0.0080 - val_accuracy: 0.9971 - lr: 1.2500e-04 - 217s/epoch - 273ms/step\n"
     ]
    }
   ],
   "source": [
    "history = model.fit(datagen.flow(X_train,y_train, batch_size=batch_size),\n",
    "                    epochs = epochs, validation_data = (X_test,y_test),\n",
    "                    verbose = 2, steps_per_epoch=X_train.shape[0] // batch_size,\n",
    "                    callbacks=[learning_rate_reduction])"
   ]
  },
  {
   "cell_type": "code",
   "execution_count": 21,
   "id": "e0e3aab2",
   "metadata": {},
   "outputs": [
    {
     "data": {
      "text/plain": [
       "Text(0, 0.5, 'accuracy')"
      ]
     },
     "execution_count": 21,
     "metadata": {},
     "output_type": "execute_result"
    },
    {
     "data": {
      "image/png": "[encoded data removed]",
      "text/plain": [
       "<Figure size 640x480 with 2 Axes>"
      ]
     },
     "metadata": {},
     "output_type": "display_data"
    }
   ],
   "source": [
    "fig,ax=plt.subplots(2,1)\n",
    "fig.set\n",
    "x=range(1,1+epochs)\n",
    "ax[0].plot(x,history.history['loss'],color='red')\n",
    "ax[0].plot(x,history.history['val_loss'],color='blue')\n",
    "\n",
    "ax[1].plot(x,history.history['accuracy'],color='red')\n",
    "ax[1].plot(x,history.history['val_accuracy'],color='blue')\n",
    "ax[0].legend(['trainng loss','validation loss'])\n",
    "ax[1].legend(['trainng acc','validation acc'])\n",
    "plt.xlabel('Number of epochs')\n",
    "plt.ylabel('accuracy')"
   ]
  },
  {
   "cell_type": "code",
   "execution_count": 22,
   "id": "e743c583",
   "metadata": {},
   "outputs": [
    {
     "name": "stdout",
     "output_type": "stream",
     "text": [
      "282/282 [==============================] - 10s 35ms/step\n"
     ]
    }
   ],
   "source": [
    "y_pre_test=model.predict(X_test)\n",
    "y_pre_test=np.argmax(y_pre_test,axis=1)\n",
    "y_test=np.argmax(y_test,axis=1)"
   ]
  },
  {
   "cell_type": "code",
   "execution_count": 23,
   "id": "e5890c8c",
   "metadata": {},
   "outputs": [],
   "source": [
    "conf=confusion_matrix(y_test,y_pre_test)\n",
    "conf=pd.DataFrame(conf,index=range(0,10),columns=range(0,10))"
   ]
  },
  {
   "cell_type": "code",
   "execution_count": 24,
   "id": "b1f2f31e",
   "metadata": {},
   "outputs": [
    {
     "data": {
      "text/html": [
       "<div>\n",
       "<style scoped>\n",
       "    .dataframe tbody tr th:only-of-type {\n",
       "        vertical-align: middle;\n",
       "    }\n",
       "\n",
       "    .dataframe tbody tr th {\n",
       "        vertical-align: top;\n",
       "    }\n",
       "\n",
       "    .dataframe thead th {\n",
       "        text-align: right;\n",
       "    }\n",
       "</style>\n",
       "<table border=\"1\" class=\"dataframe\">\n",
       "  <thead>\n",
       "    <tr style=\"text-align: right;\">\n",
       "      <th></th>\n",
       "      <th>0</th>\n",
       "      <th>1</th>\n",
       "      <th>2</th>\n",
       "      <th>3</th>\n",
       "      <th>4</th>\n",
       "      <th>5</th>\n",
       "      <th>6</th>\n",
       "      <th>7</th>\n",
       "      <th>8</th>\n",
       "      <th>9</th>\n",
       "    </tr>\n",
       "  </thead>\n",
       "  <tbody>\n",
       "    <tr>\n",
       "      <th>0</th>\n",
       "      <td>850</td>\n",
       "      <td>6</td>\n",
       "      <td>0</td>\n",
       "      <td>1</td>\n",
       "      <td>0</td>\n",
       "      <td>0</td>\n",
       "      <td>0</td>\n",
       "      <td>0</td>\n",
       "      <td>1</td>\n",
       "      <td>0</td>\n",
       "    </tr>\n",
       "    <tr>\n",
       "      <th>1</th>\n",
       "      <td>0</td>\n",
       "      <td>913</td>\n",
       "      <td>0</td>\n",
       "      <td>0</td>\n",
       "      <td>0</td>\n",
       "      <td>0</td>\n",
       "      <td>0</td>\n",
       "      <td>0</td>\n",
       "      <td>0</td>\n",
       "      <td>0</td>\n",
       "    </tr>\n",
       "    <tr>\n",
       "      <th>2</th>\n",
       "      <td>1</td>\n",
       "      <td>0</td>\n",
       "      <td>907</td>\n",
       "      <td>0</td>\n",
       "      <td>0</td>\n",
       "      <td>0</td>\n",
       "      <td>0</td>\n",
       "      <td>0</td>\n",
       "      <td>0</td>\n",
       "      <td>0</td>\n",
       "    </tr>\n",
       "    <tr>\n",
       "      <th>3</th>\n",
       "      <td>0</td>\n",
       "      <td>0</td>\n",
       "      <td>0</td>\n",
       "      <td>883</td>\n",
       "      <td>0</td>\n",
       "      <td>0</td>\n",
       "      <td>0</td>\n",
       "      <td>7</td>\n",
       "      <td>0</td>\n",
       "      <td>0</td>\n",
       "    </tr>\n",
       "    <tr>\n",
       "      <th>4</th>\n",
       "      <td>0</td>\n",
       "      <td>0</td>\n",
       "      <td>0</td>\n",
       "      <td>0</td>\n",
       "      <td>925</td>\n",
       "      <td>0</td>\n",
       "      <td>0</td>\n",
       "      <td>0</td>\n",
       "      <td>0</td>\n",
       "      <td>1</td>\n",
       "    </tr>\n",
       "    <tr>\n",
       "      <th>5</th>\n",
       "      <td>0</td>\n",
       "      <td>0</td>\n",
       "      <td>0</td>\n",
       "      <td>0</td>\n",
       "      <td>0</td>\n",
       "      <td>874</td>\n",
       "      <td>0</td>\n",
       "      <td>0</td>\n",
       "      <td>0</td>\n",
       "      <td>0</td>\n",
       "    </tr>\n",
       "    <tr>\n",
       "      <th>6</th>\n",
       "      <td>0</td>\n",
       "      <td>0</td>\n",
       "      <td>0</td>\n",
       "      <td>0</td>\n",
       "      <td>0</td>\n",
       "      <td>0</td>\n",
       "      <td>858</td>\n",
       "      <td>2</td>\n",
       "      <td>0</td>\n",
       "      <td>2</td>\n",
       "    </tr>\n",
       "    <tr>\n",
       "      <th>7</th>\n",
       "      <td>0</td>\n",
       "      <td>0</td>\n",
       "      <td>0</td>\n",
       "      <td>0</td>\n",
       "      <td>0</td>\n",
       "      <td>0</td>\n",
       "      <td>1</td>\n",
       "      <td>932</td>\n",
       "      <td>0</td>\n",
       "      <td>0</td>\n",
       "    </tr>\n",
       "    <tr>\n",
       "      <th>8</th>\n",
       "      <td>0</td>\n",
       "      <td>0</td>\n",
       "      <td>0</td>\n",
       "      <td>0</td>\n",
       "      <td>0</td>\n",
       "      <td>0</td>\n",
       "      <td>0</td>\n",
       "      <td>0</td>\n",
       "      <td>918</td>\n",
       "      <td>0</td>\n",
       "    </tr>\n",
       "    <tr>\n",
       "      <th>9</th>\n",
       "      <td>0</td>\n",
       "      <td>0</td>\n",
       "      <td>0</td>\n",
       "      <td>0</td>\n",
       "      <td>0</td>\n",
       "      <td>0</td>\n",
       "      <td>3</td>\n",
       "      <td>0</td>\n",
       "      <td>1</td>\n",
       "      <td>914</td>\n",
       "    </tr>\n",
       "  </tbody>\n",
       "</table>\n",
       "</div>"
      ],
      "text/plain": [
       "     0    1    2    3    4    5    6    7    8    9\n",
       "0  850    6    0    1    0    0    0    0    1    0\n",
       "1    0  913    0    0    0    0    0    0    0    0\n",
       "2    1    0  907    0    0    0    0    0    0    0\n",
       "3    0    0    0  883    0    0    0    7    0    0\n",
       "4    0    0    0    0  925    0    0    0    0    1\n",
       "5    0    0    0    0    0  874    0    0    0    0\n",
       "6    0    0    0    0    0    0  858    2    0    2\n",
       "7    0    0    0    0    0    0    1  932    0    0\n",
       "8    0    0    0    0    0    0    0    0  918    0\n",
       "9    0    0    0    0    0    0    3    0    1  914"
      ]
     },
     "execution_count": 24,
     "metadata": {},
     "output_type": "execute_result"
    }
   ],
   "source": [
    "conf"
   ]
  },
  {
   "cell_type": "code",
   "execution_count": 25,
   "id": "83b71818",
   "metadata": {},
   "outputs": [],
   "source": [
    "x=(y_pre_test-y_test!=0).tolist()\n",
    "x=[i for i,l in enumerate(x) if l!=False]"
   ]
  },
  {
   "cell_type": "code",
   "execution_count": 26,
   "id": "338b73d8",
   "metadata": {},
   "outputs": [
    {
     "data": {
      "image/png": "[encoded data removed]",
      "text/plain": [
       "<Figure size 5000x5000 with 10 Axes>"
      ]
     },
     "metadata": {},
     "output_type": "display_data"
    }
   ],
   "source": [
    "fig,ax=plt.subplots(1,10,sharey=False,figsize=(50,50))\n",
    "\n",
    "for i in range(10):\n",
    "    ax[i].imshow(X_test[x[i]][:,:,0])\n",
    "    ax[i].set_xlabel('Real {}, Predicted {}'.format(y_test[x[i]],y_pre_test[x[i]]))"
   ]
  },
  {
   "cell_type": "code",
   "execution_count": 27,
   "id": "f7cc1872",
   "metadata": {},
   "outputs": [],
   "source": [
    "model.save(filepath = \"Your filepath and filename\") #saved it as 'test.h5'"
   ]
  },
  {
   "cell_type": "markdown",
   "id": "f1d8ded9",
   "metadata": {},
   "source": [
    "Data - https://www.kaggle.com/competitions/Kannada-MNIST/data\n",
    "<br />Notebook used as reference - https://www.kaggle.com/code/shahules/indian-way-to-learn-cnn"
   ]
  }
 ],
 "metadata": {
  "kernelspec": {
   "display_name": "Python 3 (ipykernel)",
   "language": "python",
   "name": "python3"
  },
  "language_info": {
   "codemirror_mode": {
    "name": "ipython",
    "version": 3
   },
   "file_extension": ".py",
   "mimetype": "text/x-python",
   "name": "python",
   "nbconvert_exporter": "python",
   "pygments_lexer": "ipython3",
   "version": "3.9.13"
  }
 },
 "nbformat": 4,
 "nbformat_minor": 5
}
