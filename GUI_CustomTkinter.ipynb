{
 "cells": [
  {
   "cell_type": "code",
   "execution_count": 1,
   "id": "e29dac2f",
   "metadata": {},
   "outputs": [],
   "source": [
    "import tensorflow as tf\n",
    "from keras.models import load_model\n",
    "import cv2\n",
    "import numpy as np"
   ]
  },
  {
   "cell_type": "code",
   "execution_count": 2,
   "id": "78131d57",
   "metadata": {},
   "outputs": [],
   "source": [
    "eng=[0,1,2,3,4,5,6,7,8,9]\n",
    "kan=['೦','೧','೨','೩','೪','೫','೬','೭','೮','೯']"
   ]
  },
  {
   "cell_type": "code",
   "execution_count": 3,
   "id": "97076a08",
   "metadata": {},
   "outputs": [],
   "source": [
    "numk = [\"ಸೊನ್ನೆ\",\"ಒಂದು\",\"ಎರಡು\",\"ಮೂರು\",\"ನಾಲ್ಕು\",\"ಅಯ್ದು\",\"ಆರು\",\"ಏಳು\",\"ಎಂಟು\",\"ಒಂಬತ್ತು\",\"ಹತ್ತು\"]\n",
    "nume = [\"sonnē\",\"ondu\",\"ēraḍu\",\"mūru\",\"nālku\",\"aydu\",\"āru\",\"ēḷu\",\"ēṇṭu\",\"ombattu\",\"hattu\"]"
   ]
  },
  {
   "cell_type": "code",
   "execution_count": 4,
   "id": "feef0aa2",
   "metadata": {},
   "outputs": [],
   "source": [
    "model=tf.keras.models.load_model('test.h5')"
   ]
  },
  {
   "cell_type": "code",
   "execution_count": 5,
   "id": "61b98967",
   "metadata": {},
   "outputs": [],
   "source": [
    "def testing():\n",
    "    img=cv2.imread('image.png',0)\n",
    "    img=cv2.bitwise_not(img)\n",
    "    img=cv2.resize(img,(28,28))\n",
    "    img=img.reshape(1,28,28,1)\n",
    "    img=img.astype('float32')\n",
    "    img=img/255.0\n",
    "\n",
    "    return model.predict(img)"
   ]
  },
  {
   "cell_type": "code",
   "execution_count": 6,
   "id": "3df523d7",
   "metadata": {},
   "outputs": [],
   "source": [
    "width = 750\n",
    "height = 750\n",
    "center = height//2\n",
    "\n",
    "# Canvas height and width can be adjusted here"
   ]
  },
  {
   "cell_type": "code",
   "execution_count": 7,
   "id": "803cb5ac",
   "metadata": {},
   "outputs": [],
   "source": [
    "def paint(event):\n",
    "    x1, y1 = (event.x - 10), (event.y - 10)\n",
    "    x2, y2 = (event.x + 10), (event.y + 10)\n",
    "    cv.create_oval(x1, y1, x2, y2, fill=\"black\",width=35)\n",
    "    draw.line([x1, y1, x2, y2],fill=\"black\",width=35)\n",
    "    \n",
    "    # Brush thickness, size etc. can be adjusted here"
   ]
  },
  {
   "cell_type": "code",
   "execution_count": 8,
   "id": "b0807b2b",
   "metadata": {},
   "outputs": [],
   "source": [
    "def mod():\n",
    "    filename = \"image.png\"\n",
    "    image1.save(filename)\n",
    "    pred=testing()\n",
    "    ind = np.argmax(pred[0])\n",
    "    print(\n",
    "        pred[0][ind],'\\n',\n",
    "        kan[ind],', ',eng[ind],'\\n',\n",
    "        numk[ind],', ',nume[ind]\n",
    "         )\n",
    "    txt.insert(ctk.INSERT,\"{}\\t{}\\n{}\\t{}\\nAccuracy: {:.3f}%\\n\".format(kan[ind],eng[ind],numk[ind],nume[ind],pred[0][ind]*100))"
   ]
  },
  {
   "cell_type": "code",
   "execution_count": 9,
   "id": "7b1917e0",
   "metadata": {},
   "outputs": [],
   "source": [
    "def clear():\n",
    "    cv.delete('all')\n",
    "    draw.rectangle((0, 0, width, height), fill=(255, 255, 255, 0))\n",
    "    txt.delete('1.0', ctk.END)"
   ]
  },
  {
   "cell_type": "code",
   "execution_count": 10,
   "id": "cbfa7bca",
   "metadata": {},
   "outputs": [],
   "source": [
    "from PIL import ImageTk, Image, ImageDraw\n",
    "import PIL\n",
    "import customtkinter as ctk"
   ]
  },
  {
   "cell_type": "code",
   "execution_count": 11,
   "id": "9a2f00ac",
   "metadata": {},
   "outputs": [
    {
     "name": "stdout",
     "output_type": "stream",
     "text": [
      "1/1 [==============================] - 0s 157ms/step\n",
      "0.99480295 \n",
      " ೧ ,  1 \n",
      " ಒಂದು ,  ondu\n",
      "1/1 [==============================] - 0s 16ms/step\n",
      "0.9991381 \n",
      " ೨ ,  2 \n",
      " ಎರಡು ,  ēraḍu\n",
      "1/1 [==============================] - 0s 31ms/step\n",
      "0.9994252 \n",
      " ೭ ,  7 \n",
      " ಏಳು ,  ēḷu\n",
      "1/1 [==============================] - 0s 16ms/step\n",
      "0.9999982 \n",
      " ೬ ,  6 \n",
      " ಆರು ,  āru\n",
      "1/1 [==============================] - 0s 16ms/step\n",
      "1.0 \n",
      " ೮ ,  8 \n",
      " ಎಂಟು ,  ēṇṭu\n",
      "1/1 [==============================] - 0s 19ms/step\n",
      "1.0 \n",
      " ೯ ,  9 \n",
      " ಒಂಬತ್ತು ,  ombattu\n",
      "1/1 [==============================] - 0s 16ms/step\n",
      "0.99999213 \n",
      " ೦ ,  0 \n",
      " ಸೊನ್ನೆ ,  sonnē\n"
     ]
    }
   ],
   "source": [
    "root = ctk.CTk()\n",
    "root.resizable(0, 0)\n",
    "root.title('Kannada Digit Recognizer')\n",
    "\n",
    "cv = ctk.CTkCanvas(root, width=width, height=height, bg='white')\n",
    "cv.grid(row=0, column=0, columnspan=2, padx=10, pady=10)\n",
    "\n",
    "white = (255, 255, 255)\n",
    "image1 = PIL.Image.new(\"RGB\", (width, height), white)\n",
    "draw = ImageDraw.Draw(image1)\n",
    "\n",
    "txt = ctk.CTkTextbox(root, exportselection=0,\n",
    "              padx=10, pady=10, height=100, width=200)\n",
    "txt.grid(row=2, column=0, columnspan=2, padx=10, pady=10)\n",
    "\n",
    "cv.bind(\"<B1-Motion>\", paint)\n",
    "\n",
    "Pred = ctk.CTkButton(root, text=\"Predict\", command=mod)\n",
    "Clr = ctk.CTkButton(root, text=\"Clear\", command=clear)\n",
    "\n",
    "Pred.grid(row=1, column=0, padx=10, pady=5, sticky='ew')\n",
    "Clr.grid(row=1, column=1, padx=10, pady=5, sticky='ew')\n",
    "\n",
    "root.mainloop()"
   ]
  }
 ],
 "metadata": {
  "kernelspec": {
   "display_name": "Python 3 (ipykernel)",
   "language": "python",
   "name": "python3"
  },
  "language_info": {
   "codemirror_mode": {
    "name": "ipython",
    "version": 3
   },
   "file_extension": ".py",
   "mimetype": "text/x-python",
   "name": "python",
   "nbconvert_exporter": "python",
   "pygments_lexer": "ipython3",
   "version": "3.9.13"
  }
 },
 "nbformat": 4,
 "nbformat_minor": 5
}
